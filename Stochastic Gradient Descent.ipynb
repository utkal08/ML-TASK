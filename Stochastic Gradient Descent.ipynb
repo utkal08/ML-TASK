{
 "cells": [
  {
   "cell_type": "code",
   "execution_count": 1,
   "id": "bc68777c",
   "metadata": {},
   "outputs": [],
   "source": [
    "from sklearn.datasets import load_diabetes\n",
    "import numpy as np\n",
    "from sklearn.linear_model import LinearRegression\n",
    "from sklearn.metrics import r2_score\n",
    "from sklearn.model_selection import train_test_split"
   ]
  },
  {
   "cell_type": "code",
   "execution_count": 2,
   "id": "21643837",
   "metadata": {},
   "outputs": [],
   "source": [
    "X,y=load_diabetes(return_X_y=True)"
   ]
  },
  {
   "cell_type": "code",
   "execution_count": 3,
   "id": "7208be00",
   "metadata": {},
   "outputs": [
    {
     "name": "stdout",
     "output_type": "stream",
     "text": [
      "(442, 10)\n",
      "(442,)\n"
     ]
    }
   ],
   "source": [
    "print(X.shape)\n",
    "print(y.shape)"
   ]
  },
  {
   "cell_type": "code",
   "execution_count": 4,
   "id": "0401ce78",
   "metadata": {},
   "outputs": [],
   "source": [
    "X_train,X_test,y_train,y_test=train_test_split(X,y,test_size=0.2,random_state=2)"
   ]
  },
  {
   "cell_type": "code",
   "execution_count": 5,
   "id": "f1ffcc8d",
   "metadata": {},
   "outputs": [
    {
     "data": {
      "text/plain": [
       "LinearRegression()"
      ]
     },
     "execution_count": 5,
     "metadata": {},
     "output_type": "execute_result"
    }
   ],
   "source": [
    "reg=LinearRegression()\n",
    "reg.fit(X_train,y_train)"
   ]
  },
  {
   "cell_type": "code",
   "execution_count": 6,
   "id": "da28ccb9",
   "metadata": {},
   "outputs": [
    {
     "name": "stdout",
     "output_type": "stream",
     "text": [
      "[  -9.16088483 -205.46225988  516.68462383  340.62734108 -895.54360867\n",
      "  561.21453306  153.88478595  126.73431596  861.12139955   52.41982836]\n",
      "151.88334520854633\n"
     ]
    }
   ],
   "source": [
    "print(reg.coef_)\n",
    "print(reg.intercept_)"
   ]
  },
  {
   "cell_type": "code",
   "execution_count": 7,
   "id": "9aa86174",
   "metadata": {},
   "outputs": [
    {
     "data": {
      "text/plain": [
       "0.4399387660024645"
      ]
     },
     "execution_count": 7,
     "metadata": {},
     "output_type": "execute_result"
    }
   ],
   "source": [
    "y_pred=reg.predict(X_test)\n",
    "r2_score(y_test,y_pred)"
   ]
  },
  {
   "cell_type": "code",
   "execution_count": 46,
   "id": "336fe7c7",
   "metadata": {},
   "outputs": [],
   "source": [
    "class  SGDRegressor:\n",
    "    def __init__(self,learning_rate=0.01,epochs=100):\n",
    "        self.coef_=None\n",
    "        self.intercept_=None\n",
    "        self.lr=learning_rate\n",
    "        self.epochs=epochs\n",
    "    \n",
    "    def fit(self,X_train,y_train):\n",
    "        #init your coefs\n",
    "        self.intercept_=0\n",
    "        self.coef_=np.ones(X_train.shape[1])\n",
    "        \n",
    "        for i in  range(self.epochs):\n",
    "            for j in range(X_train.shape[0]):\n",
    "                idx= np.random.randint(0,X_train.shape[0])\n",
    "                y_hat=np.dot(X_train[idx],self.coef_)+self.intercept_\n",
    "                intercept_der=-2*(y_train[idx]-y_hat)\n",
    "                self.intercept_=self.intercept_-(self.lr*intercept_)\n",
    "                coef_der=-2*np.dot((y_train[idx]-y_hat),X_train[idx])\n",
    "                self.coef_=self.coef_-(self.lr*coef_der)\n",
    "        print(self.intercept_,self.coef_)\n",
    "    def predict(self,X_test):\n",
    "         return np.dot(X_test,self.coef_)+self.intercept_ "
   ]
  },
  {
   "cell_type": "code",
   "execution_count": 47,
   "id": "1ee3fce0",
   "metadata": {},
   "outputs": [
    {
     "data": {
      "text/plain": [
       "150"
      ]
     },
     "execution_count": 47,
     "metadata": {},
     "output_type": "execute_result"
    }
   ],
   "source": [
    "np.random.randint(0,X_train.shape[0])"
   ]
  },
  {
   "cell_type": "code",
   "execution_count": 48,
   "id": "8bdc371d",
   "metadata": {},
   "outputs": [
    {
     "data": {
      "text/plain": [
       "array([ 0.0562386 , -0.04464164, -0.05794093, -0.00796586,  0.0520932 ,\n",
       "        0.04910302,  0.05600338, -0.02141183, -0.02832024,  0.04448548])"
      ]
     },
     "execution_count": 48,
     "metadata": {},
     "output_type": "execute_result"
    }
   ],
   "source": [
    "X_train[42]"
   ]
  },
  {
   "cell_type": "code",
   "execution_count": 49,
   "id": "c8632c71",
   "metadata": {},
   "outputs": [],
   "source": [
    "coef_=np.ones(X_train.shape[1])"
   ]
  },
  {
   "cell_type": "code",
   "execution_count": 50,
   "id": "6845fa7d",
   "metadata": {},
   "outputs": [],
   "source": [
    "intercept_=0"
   ]
  },
  {
   "cell_type": "code",
   "execution_count": 57,
   "id": "9e943ca5",
   "metadata": {},
   "outputs": [],
   "source": [
    "sgd=SGDRegressor(learning_rate=0.1,epochs=100)"
   ]
  },
  {
   "cell_type": "code",
   "execution_count": 58,
   "id": "410cc967",
   "metadata": {},
   "outputs": [
    {
     "name": "stdout",
     "output_type": "stream",
     "text": [
      "0.0 [  50.33706106 -289.06245825  376.58834161  349.88704968 -157.54852046\n",
      " -102.01753346 -178.82716693 -259.96788522  701.72306731   63.30751682]\n"
     ]
    }
   ],
   "source": [
    "sgd.fit(X_train,y_train)"
   ]
  },
  {
   "cell_type": "code",
   "execution_count": 59,
   "id": "8c247cd8",
   "metadata": {},
   "outputs": [],
   "source": [
    "y_pred=sgd.predict(X_test)"
   ]
  },
  {
   "cell_type": "code",
   "execution_count": 60,
   "id": "6da1de49",
   "metadata": {},
   "outputs": [
    {
     "data": {
      "text/plain": [
       "-4.189578041414065"
      ]
     },
     "execution_count": 60,
     "metadata": {},
     "output_type": "execute_result"
    }
   ],
   "source": [
    "r2_score(y_test,y_pred)"
   ]
  },
  {
   "cell_type": "code",
   "execution_count": null,
   "id": "652853f1",
   "metadata": {},
   "outputs": [],
   "source": []
  },
  {
   "cell_type": "code",
   "execution_count": null,
   "id": "baeceeba",
   "metadata": {},
   "outputs": [],
   "source": []
  }
 ],
 "metadata": {
  "kernelspec": {
   "display_name": "Python 3 (ipykernel)",
   "language": "python",
   "name": "python3"
  },
  "language_info": {
   "codemirror_mode": {
    "name": "ipython",
    "version": 3
   },
   "file_extension": ".py",
   "mimetype": "text/x-python",
   "name": "python",
   "nbconvert_exporter": "python",
   "pygments_lexer": "ipython3",
   "version": "3.9.13"
  }
 },
 "nbformat": 4,
 "nbformat_minor": 5
}
