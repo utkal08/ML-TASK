{
 "cells": [
  {
   "cell_type": "code",
   "execution_count": 10,
   "id": "c1493f1b",
   "metadata": {},
   "outputs": [
    {
     "ename": "IndentationError",
     "evalue": "expected an indented block (2270483607.py, line 10)",
     "output_type": "error",
     "traceback": [
      "\u001b[1;36m  File \u001b[1;32m\"C:\\Users\\utkal\\AppData\\Local\\Temp\\ipykernel_23488\\2270483607.py\"\u001b[1;36m, line \u001b[1;32m10\u001b[0m\n\u001b[1;33m    num= num+(x_train[i]-x_train.mean())*(y_train[i]-y_train.mean())\u001b[0m\n\u001b[1;37m    ^\u001b[0m\n\u001b[1;31mIndentationError\u001b[0m\u001b[1;31m:\u001b[0m expected an indented block\n"
     ]
    }
   ],
   "source": [
    "class MeraLR:\n",
    "    def __init__(self):\n",
    "        self.m=None\n",
    "        self.b=None\n",
    "        num=0\n",
    "        den=0\n",
    "        \n",
    "    def fit(self,x_train,y_train):\n",
    "        for i in range(x_train.shape[0]):\n",
    "         \\num= num+(x_train[i]-x_train.mean())*(y_train[i]-y_train.mean())\n",
    "        den= num+(x_train[i]-x_train.mean())*(x_train[i]-x_train.mean())\n",
    "    \n",
    "    self.m=num/den\n",
    "    self.b=y_train.mean()-(self.m*x_train.mean())\n",
    "    print(self.m)\n",
    "    print(self.b)\n",
    "\n",
    "\n",
    "    def predict(self,x_test):\n",
    "        pass"
   ]
  },
  {
   "cell_type": "code",
   "execution_count": 2,
   "id": "992d3ae1",
   "metadata": {},
   "outputs": [],
   "source": [
    "import numpy as np\n",
    "import pandas as pd\n"
   ]
  },
  {
   "cell_type": "code",
   "execution_count": 3,
   "id": "f1c8fdf1",
   "metadata": {},
   "outputs": [],
   "source": [
    "df = pd.read_csv('placement1.csv')\n"
   ]
  },
  {
   "cell_type": "code",
   "execution_count": 4,
   "id": "10e9cf9b",
   "metadata": {},
   "outputs": [],
   "source": [
    "x=df.iloc[:,0].values\n",
    "y=df.iloc[:,1].values"
   ]
  },
  {
   "cell_type": "code",
   "execution_count": 8,
   "id": "a07ec49a",
   "metadata": {},
   "outputs": [],
   "source": [
    "from sklearn.model_selection import train_test_split\n",
    "x_train,x_test,y_train,y_test=train_test_split(x,y,test_size=0.2,random_state=2)"
   ]
  },
  {
   "cell_type": "code",
   "execution_count": 9,
   "id": "02e8f99f",
   "metadata": {},
   "outputs": [
    {
     "data": {
      "text/plain": [
       "(160,)"
      ]
     },
     "execution_count": 9,
     "metadata": {},
     "output_type": "execute_result"
    }
   ],
   "source": [
    "x_train.shape"
   ]
  },
  {
   "cell_type": "code",
   "execution_count": null,
   "id": "f486e79f",
   "metadata": {},
   "outputs": [],
   "source": []
  }
 ],
 "metadata": {
  "kernelspec": {
   "display_name": "Python 3 (ipykernel)",
   "language": "python",
   "name": "python3"
  },
  "language_info": {
   "codemirror_mode": {
    "name": "ipython",
    "version": 3
   },
   "file_extension": ".py",
   "mimetype": "text/x-python",
   "name": "python",
   "nbconvert_exporter": "python",
   "pygments_lexer": "ipython3",
   "version": "3.9.13"
  }
 },
 "nbformat": 4,
 "nbformat_minor": 5
}
